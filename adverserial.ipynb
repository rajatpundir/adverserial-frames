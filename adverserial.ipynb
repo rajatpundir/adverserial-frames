{
 "cells": [
  {
   "cell_type": "code",
   "execution_count": 1,
   "metadata": {},
   "outputs": [
    {
     "name": "stderr",
     "output_type": "stream",
     "text": [
      "Using TensorFlow backend.\n"
     ]
    }
   ],
   "source": [
    "import foolbox\n",
    "import keras\n",
    "import numpy as np\n",
    "import matplotlib\n",
    "import matplotlib.pyplot as plt\n",
    "from keras.applications.resnet50 import ResNet50\n",
    "from keras.preprocessing import image\n",
    "from keras.applications.resnet50 import preprocess_input, decode_predictions\n",
    "import PIL, os, shutil"
   ]
  },
  {
   "cell_type": "code",
   "execution_count": 9,
   "metadata": {},
   "outputs": [
    {
     "name": "stdout",
     "output_type": "stream",
     "text": [
      "[[('n03891332', 'parking_meter', 0.19580378), ('n03447447', 'gondola', 0.14906652)]] 704\n"
     ]
    }
   ],
   "source": [
    "filename = 'original.png'\n",
    "filename = 'adverserial.png'\n",
    "filename = 'overlay.png'\n",
    "filename = './adverserial_frames/417.png'\n",
    "keras.backend.set_learning_phase(0)\n",
    "model = ResNet50(weights='imagenet')\n",
    "preprocessing = (np.array([104, 116, 123]), 1)\n",
    "fmodel = foolbox.models.KerasModel(model, bounds=(0, 255), preprocessing=(np.array([104, 116, 123]), 1))\n",
    "img = image.load_img(filename, target_size=(224, 224))\n",
    "x = image.img_to_array(img)\n",
    "x = np.expand_dims(x, axis=0)\n",
    "x = preprocess_input(x)\n",
    "preds = model.predict(x)\n",
    "label = int(preds.argmax(axis=-1)[0])\n",
    "print(decode_predictions(preds, top=2), label)"
   ]
  },
  {
   "cell_type": "code",
   "execution_count": null,
   "metadata": {},
   "outputs": [],
   "source": [
    "y = image.img_to_array(img)\n",
    "attack = foolbox.attacks.FGSM(fmodel)\n",
    "adversarial = attack(y[:, :, ::-1], label)\n",
    "matplotlib.image.imsave('original.png', y / 255)\n",
    "matplotlib.image.imsave('adverserial.png', adversarial[:, :, ::-1] / 255)\n",
    "difference = adversarial[:, :, ::-1] - y\n",
    "matplotlib.image.imsave('difference.png', difference / abs(difference).max() * 0.2 + 0.5)"
   ]
  },
  {
   "cell_type": "code",
   "execution_count": null,
   "metadata": {},
   "outputs": [],
   "source": [
    "%matplotlib inline\n",
    "plt.figure()\n",
    "plt.subplot(1, 3, 1)\n",
    "plt.title('Original')\n",
    "plt.imshow(y / 255)  # division by 255 to convert [0, 255] to [0, 1]\n",
    "plt.axis('off')\n",
    "plt.subplot(1, 3, 2)\n",
    "plt.title('Adversarial')\n",
    "plt.imshow(adversarial[:, :, ::-1] / 255)  # ::-1 to convert BGR to RGB\n",
    "plt.axis('off')\n",
    "plt.subplot(1, 3, 3)\n",
    "plt.title('Difference')\n",
    "difference = adversarial[:, :, ::-1] - y\n",
    "plt.imshow(difference / abs(difference).max() * 0.2 + 0.5)\n",
    "plt.axis('off')\n",
    "plt.show()"
   ]
  },
  {
   "cell_type": "code",
   "execution_count": 13,
   "metadata": {},
   "outputs": [],
   "source": [
    "try:\n",
    "    shutil.rmtree('adverserial_frames')\n",
    "    os.mkdir('adverserial_frames')\n",
    "except:\n",
    "    try:\n",
    "        os.mkdir('adverserial_frames')\n",
    "    except:\n",
    "        pass\n",
    "files = [f for f in os.listdir('./frames/') if os.path.isfile(os.path.join('./frames/', f))]\n",
    "files_num = []\n",
    "for f in files:\n",
    "    files_num.append(int(f.split('.')[0]))\n",
    "files_num = sorted(files_num)\n",
    "files = files_num\n",
    "imbg = PIL.Image.open('./frames/1.png').convert(\"RGBA\")\n",
    "imfg = PIL.Image.open('difference.png').convert(\"RGBA\")\n",
    "imbg_width, imbg_height = imbg.size\n",
    "imfg_resized = imfg.resize((imbg_width, imbg_height), PIL.Image.ANTIALIAS)\n",
    "for f in files:\n",
    "    path = './frames/' + str(f) + '.png'\n",
    "    imbg = PIL.Image.open(path).convert(\"RGBA\")\n",
    "    new_frame = PIL.Image.blend(imbg, imfg_resized, alpha=0.001)\n",
    "    new_frame.save('./adverserial_frames/' + str(f) + '.png')"
   ]
  },
  {
   "cell_type": "code",
   "execution_count": null,
   "metadata": {},
   "outputs": [],
   "source": []
  }
 ],
 "metadata": {
  "kernelspec": {
   "display_name": "Python 3",
   "language": "python",
   "name": "python3"
  },
  "language_info": {
   "codemirror_mode": {
    "name": "ipython",
    "version": 3
   },
   "file_extension": ".py",
   "mimetype": "text/x-python",
   "name": "python",
   "nbconvert_exporter": "python",
   "pygments_lexer": "ipython3",
   "version": "3.7.3"
  }
 },
 "nbformat": 4,
 "nbformat_minor": 4
}
